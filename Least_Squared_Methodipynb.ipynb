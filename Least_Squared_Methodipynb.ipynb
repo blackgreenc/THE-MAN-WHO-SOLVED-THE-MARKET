{
  "nbformat": 4,
  "nbformat_minor": 0,
  "metadata": {
    "colab": {
      "name": "Least Squared Methodipynb",
      "provenance": [],
      "authorship_tag": "ABX9TyMjA1rAiGktOrlDxnhg/fBk",
      "include_colab_link": true
    },
    "kernelspec": {
      "name": "python3",
      "display_name": "Python 3"
    },
    "language_info": {
      "name": "python"
    }
  },
  "cells": [
    {
      "cell_type": "markdown",
      "metadata": {
        "id": "view-in-github",
        "colab_type": "text"
      },
      "source": [
        "<a href=\"https://colab.research.google.com/github/blackgreenc/THE-MAN-WHO-SOLVED-THE-MARKET/blob/main/Least_Squared_Methodipynb.ipynb\" target=\"_parent\"><img src=\"https://colab.research.google.com/assets/colab-badge.svg\" alt=\"Open In Colab\"/></a>"
      ]
    },
    {
      "cell_type": "code",
      "source": [
        "import matplotlib.pyplot as plt\n",
        "import random"
      ],
      "metadata": {
        "id": "zG2IkuxMDxgl"
      },
      "execution_count": null,
      "outputs": []
    },
    {
      "cell_type": "markdown",
      "source": [
        "<h1>Least Squared Method</h1>\n",
        "<h3>\n",
        "최소제곱법은 자료들 사이에서 패턴을 도출해내는데 쓰인다. 아주 직관적이고 간단하기 때문에, 수치해석, 회귀분석 등 다양한 통계학적 접근의 기본이 된다.\n",
        "</h3>"
      ],
      "metadata": {
        "id": "ds1e1JiE_l0G"
      }
    },
    {
      "cell_type": "markdown",
      "source": [
        "<h3>\n",
        "다음 그래프를 보자, 각 자료가 흩뿌려져 있는데, 이 점 들 사이에 일관성을 찾기 위해 그래프 f(x)를 도출한다고 가정하자. 각 점들과 그래프 간의 차이를 residual이라고 한다.\n",
        "</h3>"
      ],
      "metadata": {
        "id": "mqgvS4Zt_lE-"
      }
    },
    {
      "cell_type": "markdown",
      "source": [
        "<h3>\n",
        "그래프는 가장 오차가 적어야 한다. 오차가 적어야 하다는 것은 각 점들과 그래프 간의 오차가 가장 최소가 되는 f(x)를 찾아야한다는 것을 의미한다.\n",
        "\n",
        "</h3>"
      ],
      "metadata": {
        "id": "rSKhJEkp_-MR"
      }
    },
    {
      "cell_type": "markdown",
      "source": [
        "![image.png](data:image/png;base64,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)"
      ],
      "metadata": {
        "id": "89EzhPgbAGKW"
      }
    },
    {
      "cell_type": "markdown",
      "source": [
        "<h3>\n",
        "수식으로 나타내면 아래와 같다. 변수 x와 상수 B가 주어졌을 때, 식은 다음과 같다. f(x)는 선형인 일차 함수로 가정을 한다. x와 y는 주어지는 값이니, residual의 최소값은 기울기 a와 절편 b로 결정된다.\n",
        "</h3>"
      ],
      "metadata": {
        "id": "t4LzRQthKbyW"
      }
    },
    {
      "cell_type": "markdown",
      "source": [
        "<h3>각 점들에서 가장 가까운 1차 함수 그래프의 식을 구하는 것이 최소제곱법의 목적이다.\n",
        "</h3>"
      ],
      "metadata": {
        "id": "HvcIdPaXKb-A"
      }
    },
    {
      "cell_type": "markdown",
      "source": [
        "$$ \n",
        "\\sum_{i=1}^nresidual^2\n",
        "$$ \n",
        "<br>\n",
        "$$\n",
        "\\sum_{i=1}^n(y_i-f(x_i,\\beta))^2\n",
        "$$\n",
        "<br>\n",
        "$$\n",
        "f(x_i,\\beta) = ax_i + b\n",
        "$$"
      ],
      "metadata": {
        "id": "QwnGGfo6Mix7"
      }
    },
    {
      "cell_type": "markdown",
      "source": [
        "<h3>\n",
        "Residual 합의 최소값이 되는 a,b는 a 와 b 를 편미분하여서 도출이된다. <u>페르마의 정리</u>에 의해 미분값이 0이 도출이 되는 값이 임계점이 되기 때문이다. 각각의 편미분 값이 0인 a, b의 식을 연립방정식으로 계산한다.\n",
        "</h3>"
      ],
      "metadata": {
        "id": "Kbz4tsONNaSD"
      }
    },
    {
      "cell_type": "markdown",
      "source": [
        "$$\n",
        "{{\\partial}\\over{\\partial a}}\\sum_{i=1}^n(y_i - ax_i + b)^2 = 0\n",
        "$$\n",
        "$$\n",
        "{{\\partial}\\over{\\partial b}}\\sum_{i=1}^n(y_i - ax_i + b)^2 = 0\n",
        "$$"
      ],
      "metadata": {
        "id": "XPbizmjuN1_h"
      }
    },
    {
      "cell_type": "markdown",
      "source": [
        "<h3>위 식을 풀어서 계산을 해보자.</h3>"
      ],
      "metadata": {
        "id": "z163dwwdM_b-"
      }
    },
    {
      "cell_type": "markdown",
      "source": [
        "$$\n",
        "\\sum_{i=1}^n(y_i - (ax_i + b))^2 = 0\n",
        "$$\n",
        "\n",
        "<center>\n",
        ":<br>\n",
        ":<br>\n",
        "</center>\n",
        "\n",
        "$$\n",
        "\\sum_{i=1}^n(y_i^2 - 2y_i(ax_i + b) + (ax_i + b)^2) = 0\n",
        "$$\n",
        "\n",
        "<center>\n",
        ":<br>\n",
        ":<br>\n",
        "</center>\n",
        "\n",
        "$$\n",
        "\\sum_{i=1}^n(y_i^2 - 2ax_iy_i - 2by_i + a^2x^2_i + 2ax_i + b^2) = 0\n",
        "$$\n",
        "\n",
        "<center>\n",
        ":<br>\n",
        ":<br>\n",
        "</center>\n",
        "\n",
        "$$\n",
        "\\sum_{i=1}^n[(a^2x_i^2 + 2ax_i - 2abx_iy_i)+(y_i^2 - 2by_i + b^2)]\n",
        "$$"
      ],
      "metadata": {
        "id": "qG7UOdUENQbY"
      }
    },
    {
      "cell_type": "markdown",
      "source": [
        "<h3>\n",
        "식을 정리한 다음 a,b로 편미분을 해보자\n",
        "</h3>"
      ],
      "metadata": {
        "id": "6d-ZXMFuPzWF"
      }
    },
    {
      "cell_type": "markdown",
      "source": [
        "$$\n",
        "{\\partial\\over{\\partial a}}\\sum_{i=1}^n[(a^2x^2_i +2abx_i -2ax_iy_i) + (y_i^2 - 2by_i + b^2)] = 0\n",
        "$$\n",
        "$$\n",
        "{\\partial\\over{\\partial a}}\\sum_{i=1}^n[(b^2 +2abx_i -2by_i) + (a^2x_{ij}^2 + y_i^2 - wax_iy_i)] = 0\n",
        "$$\n",
        "\n",
        "<center>\n",
        ":<br>\n",
        ":<br>\n",
        "</center>\n",
        "\n",
        "\n"
      ],
      "metadata": {
        "id": "7VXlpQ-2N1uo"
      }
    },
    {
      "cell_type": "markdown",
      "source": [
        ""
      ],
      "metadata": {
        "id": "6lfUyZYWMefz"
      }
    },
    {
      "cell_type": "markdown",
      "source": [
        ""
      ],
      "metadata": {
        "id": "6ghCkFk1Lgi1"
      }
    },
    {
      "cell_type": "code",
      "source": [
        "x = [0, 100]\n",
        "plt.plot(x, x)\n",
        "li = []\n",
        "gi = []\n",
        "plt.xlabel('X-Label')\n",
        "plt.ylabel('Y-Label')\n",
        "for i in range(0,100,3):\n",
        "    li.append(i)\n",
        "    gi.append(i + random.randrange(-13,13) )\n",
        "plt.plot(li, gi, 'g^')  "
      ],
      "metadata": {
        "colab": {
          "base_uri": "https://localhost:8080/",
          "height": 297
        },
        "id": "5zoI04ekDu5e",
        "outputId": "7c10a4c4-243a-4112-a5ce-4ba35ab3dfaf"
      },
      "execution_count": null,
      "outputs": [
        {
          "output_type": "execute_result",
          "data": {
            "text/plain": [
              "[<matplotlib.lines.Line2D at 0x7f6a5dd5a650>]"
            ]
          },
          "metadata": {},
          "execution_count": 75
        },
        {
          "output_type": "display_data",
          "data": {
            "image/png": "[encoded data removed]",
            "text/plain": [
              "<Figure size 432x288 with 1 Axes>"
            ]
          },
          "metadata": {
            "needs_background": "light"
          }
        }
      ]
    }
  ]
}