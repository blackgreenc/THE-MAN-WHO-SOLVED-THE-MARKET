{
  "nbformat": 4,
  "nbformat_minor": 0,
  "metadata": {
    "colab": {
      "name": "Markov_model.ipynb",
      "provenance": [],
      "authorship_tag": "ABX9TyPX43Etz0vt9LB7/KA+P0cC",
      "include_colab_link": true
    },
    "kernelspec": {
      "name": "python3",
      "display_name": "Python 3"
    },
    "language_info": {
      "name": "python"
    }
  },
  "cells": [
    {
      "cell_type": "markdown",
      "metadata": {
        "id": "view-in-github",
        "colab_type": "text"
      },
      "source": [
        "<a href=\"https://colab.research.google.com/github/blackgreenc/THE-MAN-WHO-SOLVED-THE-MARKET/blob/main/Markov_model.ipynb\" target=\"_parent\"><img src=\"https://colab.research.google.com/assets/colab-badge.svg\" alt=\"Open In Colab\"/></a>"
      ]
    },
    {
      "cell_type": "code",
      "metadata": {
        "id": "Qz6OmCWlUErc"
      },
      "source": [
        ""
      ],
      "execution_count": null,
      "outputs": []
    },
    {
      "cell_type": "markdown",
      "metadata": {
        "id": "zwKbnHNXUIqo"
      },
      "source": [
        "<h1>Markov Property</h1>\n",
        "<h3>\n",
        "Markov Property는 n+1 회에서의 상태는 오직 n회에서의 상태, 혹은 그 이전 일정 기간의 상태에만 영향을 받는 것을 의미한다.예를 들면 동전 던지기는 독립 시행이기 때문에 n번째의 상태가 앞이든지 뒤이든지 간에 n+1번째 상태에 영향을 주지 않는다. 하지만 1차 Markov Chain은 n번째 상태가 n+1번째 상태를 결정하는데 영향을 미친다.\n",
        "</h3>"
      ]
    },
    {
      "cell_type": "markdown",
      "metadata": {
        "id": "vMPDjBm1UI3C"
      },
      "source": [
        "<h1>Markov Model</h1>\n",
        "<h3>\n",
        "Markov Model은 1800년대 후반에서 1900년대 초 러시아 수학자 안드레이 마르코프(Andrey Markov)의 일름을 따서 명명되었다. Markov Model이란 보통 여러 개의 상태가 존재하고 상태 간의 전이 확률을 Markov Property로 정의한 것을 말하는데, 어떤 상태로 들어갈 확률이 들어가기 직전 상태에만 의존하는 확률과정. 즉, 다음에 나올 상태에 대한 확률값이 직전 과거에만 종속된 모델이다. 간단히 말하면 어제의 일이 오늘에만 영향을 미치는 것이다. Markov Model은 서로 다른 상태의 확률과 이들 간의 전이 비율을 모델링하는 데 자주 사용된다. Markov Model은 가장 먼저 각 상태를 정의하게 된다. 상태는 V={v1,···,vm}으로 정의하고, m개의 상태가 존재하게 되는 것이다. 그다음은 상태 전이 확률을 정의할 수 있다. 상태 전이 확률이란 각 상태에서 각 상태로 이동할 확률을 말한다. 상태 전이 확률 aij는 상태 vi에서 상태 vj로 이동할 확률을 의미한다. 아래의 식은 상태 전이 확률을 식으로 나타낸 것과 그 아래는 확률의 기본 정의에 의한 상태 전이 확률의 조건이다.\n",
        "</h3>"
      ]
    }
  ]
}